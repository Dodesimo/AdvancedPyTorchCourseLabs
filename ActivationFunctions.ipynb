{
 "cells": [
  {
   "cell_type": "code",
   "execution_count": 1,
   "outputs": [
    {
     "data": {
      "text/plain": "<torch._C.Generator at 0x7fd7f8895f90>"
     },
     "execution_count": 1,
     "metadata": {},
     "output_type": "execute_result"
    }
   ],
   "source": [
    "import torch.nn as nn\n",
    "import torch\n",
    "\n",
    "import matplotlib.pyplot as plt\n",
    "torch.manual_seed(2)"
   ],
   "metadata": {
    "collapsed": false,
    "pycharm": {
     "name": "#%%\n"
    }
   }
  },
  {
   "cell_type": "code",
   "execution_count": 2,
   "outputs": [],
   "source": [
    "z = torch.arange(-10, 10, 0.1,).view(-1, 1)"
   ],
   "metadata": {
    "collapsed": false,
    "pycharm": {
     "name": "#%%\n"
    }
   }
  },
  {
   "cell_type": "code",
   "execution_count": 3,
   "outputs": [],
   "source": [
    "sig = nn.Sigmoid()"
   ],
   "metadata": {
    "collapsed": false,
    "pycharm": {
     "name": "#%%\n"
    }
   }
  },
  {
   "cell_type": "code",
   "execution_count": 4,
   "outputs": [],
   "source": [
    "yhat = sig(z)"
   ],
   "metadata": {
    "collapsed": false,
    "pycharm": {
     "name": "#%%\n"
    }
   }
  },
  {
   "cell_type": "code",
   "execution_count": 5,
   "outputs": [
    {
     "name": "stdout",
     "output_type": "stream",
     "text": [
      "tensor([[4.5398e-05],\n",
      "        [5.0172e-05],\n",
      "        [5.5449e-05],\n",
      "        [6.1280e-05],\n",
      "        [6.7724e-05],\n",
      "        [7.4846e-05],\n",
      "        [8.2717e-05],\n",
      "        [9.1416e-05],\n",
      "        [1.0103e-04],\n",
      "        [1.1165e-04],\n",
      "        [1.2339e-04],\n",
      "        [1.3637e-04],\n",
      "        [1.5071e-04],\n",
      "        [1.6656e-04],\n",
      "        [1.8407e-04],\n",
      "        [2.0343e-04],\n",
      "        [2.2482e-04],\n",
      "        [2.4846e-04],\n",
      "        [2.7458e-04],\n",
      "        [3.0345e-04],\n",
      "        [3.3535e-04],\n",
      "        [3.7061e-04],\n",
      "        [4.0957e-04],\n",
      "        [4.5262e-04],\n",
      "        [5.0020e-04],\n",
      "        [5.5278e-04],\n",
      "        [6.1088e-04],\n",
      "        [6.7508e-04],\n",
      "        [7.4603e-04],\n",
      "        [8.2442e-04],\n",
      "        [9.1105e-04],\n",
      "        [1.0068e-03],\n",
      "        [1.1125e-03],\n",
      "        [1.2294e-03],\n",
      "        [1.3585e-03],\n",
      "        [1.5012e-03],\n",
      "        [1.6588e-03],\n",
      "        [1.8329e-03],\n",
      "        [2.0253e-03],\n",
      "        [2.2378e-03],\n",
      "        [2.4726e-03],\n",
      "        [2.7320e-03],\n",
      "        [3.0184e-03],\n",
      "        [3.3348e-03],\n",
      "        [3.6842e-03],\n",
      "        [4.0701e-03],\n",
      "        [4.4963e-03],\n",
      "        [4.9668e-03],\n",
      "        [5.4863e-03],\n",
      "        [6.0598e-03],\n",
      "        [6.6929e-03],\n",
      "        [7.3915e-03],\n",
      "        [8.1626e-03],\n",
      "        [9.0133e-03],\n",
      "        [9.9518e-03],\n",
      "        [1.0987e-02],\n",
      "        [1.2128e-02],\n",
      "        [1.3387e-02],\n",
      "        [1.4774e-02],\n",
      "        [1.6302e-02],\n",
      "        [1.7986e-02],\n",
      "        [1.9840e-02],\n",
      "        [2.1881e-02],\n",
      "        [2.4127e-02],\n",
      "        [2.6597e-02],\n",
      "        [2.9312e-02],\n",
      "        [3.2295e-02],\n",
      "        [3.5571e-02],\n",
      "        [3.9166e-02],\n",
      "        [4.3107e-02],\n",
      "        [4.7426e-02],\n",
      "        [5.2154e-02],\n",
      "        [5.7324e-02],\n",
      "        [6.2973e-02],\n",
      "        [6.9138e-02],\n",
      "        [7.5858e-02],\n",
      "        [8.3173e-02],\n",
      "        [9.1123e-02],\n",
      "        [9.9750e-02],\n",
      "        [1.0910e-01],\n",
      "        [1.1920e-01],\n",
      "        [1.3011e-01],\n",
      "        [1.4185e-01],\n",
      "        [1.5447e-01],\n",
      "        [1.6798e-01],\n",
      "        [1.8243e-01],\n",
      "        [1.9782e-01],\n",
      "        [2.1417e-01],\n",
      "        [2.3148e-01],\n",
      "        [2.4974e-01],\n",
      "        [2.6894e-01],\n",
      "        [2.8905e-01],\n",
      "        [3.1003e-01],\n",
      "        [3.3181e-01],\n",
      "        [3.5434e-01],\n",
      "        [3.7754e-01],\n",
      "        [4.0131e-01],\n",
      "        [4.2556e-01],\n",
      "        [4.5017e-01],\n",
      "        [4.7502e-01],\n",
      "        [5.0000e-01],\n",
      "        [5.2498e-01],\n",
      "        [5.4983e-01],\n",
      "        [5.7444e-01],\n",
      "        [5.9869e-01],\n",
      "        [6.2246e-01],\n",
      "        [6.4566e-01],\n",
      "        [6.6819e-01],\n",
      "        [6.8997e-01],\n",
      "        [7.1095e-01],\n",
      "        [7.3106e-01],\n",
      "        [7.5026e-01],\n",
      "        [7.6852e-01],\n",
      "        [7.8584e-01],\n",
      "        [8.0218e-01],\n",
      "        [8.1757e-01],\n",
      "        [8.3202e-01],\n",
      "        [8.4553e-01],\n",
      "        [8.5815e-01],\n",
      "        [8.6989e-01],\n",
      "        [8.8080e-01],\n",
      "        [8.9090e-01],\n",
      "        [9.0025e-01],\n",
      "        [9.0888e-01],\n",
      "        [9.1683e-01],\n",
      "        [9.2414e-01],\n",
      "        [9.3086e-01],\n",
      "        [9.3703e-01],\n",
      "        [9.4268e-01],\n",
      "        [9.4785e-01],\n",
      "        [9.5257e-01],\n",
      "        [9.5689e-01],\n",
      "        [9.6083e-01],\n",
      "        [9.6443e-01],\n",
      "        [9.6770e-01],\n",
      "        [9.7069e-01],\n",
      "        [9.7340e-01],\n",
      "        [9.7587e-01],\n",
      "        [9.7812e-01],\n",
      "        [9.8016e-01],\n",
      "        [9.8201e-01],\n",
      "        [9.8370e-01],\n",
      "        [9.8523e-01],\n",
      "        [9.8661e-01],\n",
      "        [9.8787e-01],\n",
      "        [9.8901e-01],\n",
      "        [9.9005e-01],\n",
      "        [9.9099e-01],\n",
      "        [9.9184e-01],\n",
      "        [9.9261e-01],\n",
      "        [9.9331e-01],\n",
      "        [9.9394e-01],\n",
      "        [9.9451e-01],\n",
      "        [9.9503e-01],\n",
      "        [9.9550e-01],\n",
      "        [9.9593e-01],\n",
      "        [9.9632e-01],\n",
      "        [9.9667e-01],\n",
      "        [9.9698e-01],\n",
      "        [9.9727e-01],\n",
      "        [9.9753e-01],\n",
      "        [9.9776e-01],\n",
      "        [9.9797e-01],\n",
      "        [9.9817e-01],\n",
      "        [9.9834e-01],\n",
      "        [9.9850e-01],\n",
      "        [9.9864e-01],\n",
      "        [9.9877e-01],\n",
      "        [9.9889e-01],\n",
      "        [9.9899e-01],\n",
      "        [9.9909e-01],\n",
      "        [9.9918e-01],\n",
      "        [9.9925e-01],\n",
      "        [9.9932e-01],\n",
      "        [9.9939e-01],\n",
      "        [9.9945e-01],\n",
      "        [9.9950e-01],\n",
      "        [9.9955e-01],\n",
      "        [9.9959e-01],\n",
      "        [9.9963e-01],\n",
      "        [9.9966e-01],\n",
      "        [9.9970e-01],\n",
      "        [9.9973e-01],\n",
      "        [9.9975e-01],\n",
      "        [9.9978e-01],\n",
      "        [9.9980e-01],\n",
      "        [9.9982e-01],\n",
      "        [9.9983e-01],\n",
      "        [9.9985e-01],\n",
      "        [9.9986e-01],\n",
      "        [9.9988e-01],\n",
      "        [9.9989e-01],\n",
      "        [9.9990e-01],\n",
      "        [9.9991e-01],\n",
      "        [9.9992e-01],\n",
      "        [9.9993e-01],\n",
      "        [9.9993e-01],\n",
      "        [9.9994e-01],\n",
      "        [9.9994e-01],\n",
      "        [9.9995e-01]])\n"
     ]
    }
   ],
   "source": [
    "print(yhat)"
   ],
   "metadata": {
    "collapsed": false,
    "pycharm": {
     "name": "#%%\n"
    }
   }
  },
  {
   "cell_type": "code",
   "execution_count": 8,
   "outputs": [
    {
     "data": {
      "text/plain": "Text(0, 0.5, 'y')"
     },
     "execution_count": 8,
     "metadata": {},
     "output_type": "execute_result"
    },
    {
     "data": {
      "text/plain": "<Figure size 432x288 with 1 Axes>",
      "image/png": "[encoded data removed]"
     },
     "metadata": {
      "needs_background": "light"
     },
     "output_type": "display_data"
    }
   ],
   "source": [
    "plt.plot(z.numpy(), yhat.numpy())\n",
    "plt.xlabel('z'\n",
    ")\n",
    "plt.ylabel('y')"
   ],
   "metadata": {
    "collapsed": false,
    "pycharm": {
     "name": "#%%\n"
    }
   }
  },
  {
   "cell_type": "code",
   "execution_count": 9,
   "outputs": [
    {
     "data": {
      "text/plain": "<Figure size 432x288 with 1 Axes>",
      "image/png": "[encoded data removed]"
     },
     "metadata": {
      "needs_background": "light"
     },
     "output_type": "display_data"
    }
   ],
   "source": [
    "yhat = torch.sigmoid(z)\n",
    "plt.plot(z.numpy(), yhat.numpy())\n",
    "plt.show()"
   ],
   "metadata": {
    "collapsed": false,
    "pycharm": {
     "name": "#%%\n"
    }
   }
  },
  {
   "cell_type": "code",
   "execution_count": 10,
   "outputs": [
    {
     "data": {
      "text/plain": "Text(0, 0.5, 'yhat')"
     },
     "execution_count": 10,
     "metadata": {},
     "output_type": "execute_result"
    },
    {
     "data": {
      "text/plain": "<Figure size 432x288 with 1 Axes>",
      "image/png": "[encoded data removed]"
     },
     "metadata": {
      "needs_background": "light"
     },
     "output_type": "display_data"
    }
   ],
   "source": [
    "TANH = nn.Tanh()\n",
    "yhat = TANH(z)\n",
    "plt.plot(z.numpy(), yhat.numpy())\n",
    "plt.xlabel('z')\n",
    "plt.ylabel('yhat')"
   ],
   "metadata": {
    "collapsed": false,
    "pycharm": {
     "name": "#%%\n"
    }
   }
  },
  {
   "cell_type": "code",
   "execution_count": 11,
   "outputs": [
    {
     "data": {
      "text/plain": "[<matplotlib.lines.Line2D at 0x7fd818e77610>]"
     },
     "execution_count": 11,
     "metadata": {},
     "output_type": "execute_result"
    },
    {
     "data": {
      "text/plain": "<Figure size 432x288 with 1 Axes>",
      "image/png": "[encoded data removed]"
     },
     "metadata": {
      "needs_background": "light"
     },
     "output_type": "display_data"
    }
   ],
   "source": [
    "RELU = nn.ReLU()\n",
    "yhat = RELU(z)\n",
    "plt.plot(z.numpy(), yhat.numpy())"
   ],
   "metadata": {
    "collapsed": false,
    "pycharm": {
     "name": "#%%\n"
    }
   }
  },
  {
   "cell_type": "code",
   "execution_count": 17,
   "outputs": [
    {
     "data": {
      "text/plain": "[<matplotlib.lines.Line2D at 0x7fd828edbee0>]"
     },
     "execution_count": 17,
     "metadata": {},
     "output_type": "execute_result"
    },
    {
     "data": {
      "text/plain": "<Figure size 432x288 with 1 Axes>",
      "image/png": "[encoded data removed]"
     },
     "metadata": {
      "needs_background": "light"
     },
     "output_type": "display_data"
    }
   ],
   "source": [
    "dataset = torch.arange(-1,1, 0.1).view(-1,1)\n",
    "plt.plot(z.numpy(), torch.sigmoid(z).numpy())\n",
    "plt.plot(z.numpy(), torch.relu(z).numpy())\n",
    "plt.plot(z.numpy(), torch.tanh(z).numpy())"
   ],
   "metadata": {
    "collapsed": false,
    "pycharm": {
     "name": "#%%\n"
    }
   }
  },
  {
   "cell_type": "code",
   "execution_count": null,
   "outputs": [],
   "source": [],
   "metadata": {
    "collapsed": false,
    "pycharm": {
     "name": "#%%\n"
    }
   }
  }
 ],
 "metadata": {
  "kernelspec": {
   "display_name": "Python 3",
   "language": "python",
   "name": "python3"
  },
  "language_info": {
   "codemirror_mode": {
    "name": "ipython",
    "version": 2
   },
   "file_extension": ".py",
   "mimetype": "text/x-python",
   "name": "python",
   "nbconvert_exporter": "python",
   "pygments_lexer": "ipython2",
   "version": "2.7.6"
  }
 },
 "nbformat": 4,
 "nbformat_minor": 0
}